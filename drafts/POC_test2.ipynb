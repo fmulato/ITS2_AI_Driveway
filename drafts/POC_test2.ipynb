{
 "cells": [
  {
   "cell_type": "code",
   "execution_count": null,
   "id": "initial_id",
   "metadata": {
    "collapsed": true
   },
   "outputs": [],
   "source": [
    "# Instale os requisitos se ainda não tiver\n",
    "#!pip install ultralytics opencv-python-headless --quiet"
   ]
  },
  {
   "metadata": {},
   "cell_type": "code",
   "outputs": [],
   "execution_count": null,
   "source": [
    "# Load the YOLOv5n model (auto-downloads on first run)\n",
    "#model = YOLO('yolov5n.pt')"
   ],
   "id": "f3748e08b3bab98d"
  },
  {
   "metadata": {
    "ExecuteTime": {
     "end_time": "2025-06-20T04:23:20.700187Z",
     "start_time": "2025-06-20T04:23:16.267432Z"
    }
   },
   "cell_type": "code",
   "source": [
    "# GUI: Real-Time Person Detection with Start/Stop Button (Tkinter + YOLOv5n)\n",
    "\n",
    "import tkinter as tk\n",
    "from PIL import Image, ImageTk\n",
    "import cv2\n",
    "from ultralytics import YOLO\n",
    "import threading\n",
    "\n",
    "model = YOLO('yolov5n.pt')\n",
    "\n",
    "# Initialize GUI window\n",
    "root = tk.Tk()\n",
    "root.title(\"Person Detection Alert System\")\n",
    "\n",
    "video_label = tk.Label(root)\n",
    "video_label.pack()\n",
    "\n",
    "alert_label = tk.Label(root, text=\"Waiting...\", font=(\"Arial\", 16))\n",
    "alert_label.pack(pady=10)\n",
    "\n",
    "running = False\n",
    "cap = None\n",
    "\n",
    "# Function to detect people and update the GUI\n",
    "def detect_loop():\n",
    "    global running, cap\n",
    "    while running:\n",
    "        ret, frame = cap.read()\n",
    "        if not ret:\n",
    "            break\n",
    "        frame = cv2.resize(frame, (640, 480))\n",
    "        results = model(frame, verbose=False)\n",
    "\n",
    "        alert = False\n",
    "        for box in results[0].boxes:\n",
    "            cls = int(box.cls[0])\n",
    "            conf = float(box.conf[0])\n",
    "            if cls == 0 and conf > 0.5:\n",
    "                x1, y1, x2, y2 = map(int, box.xyxy[0])\n",
    "                cv2.rectangle(frame, (x1, y1), (x2, y2), (0, 255, 0), 2)\n",
    "                cv2.putText(frame, f'Person {conf:.2f}', (x1, y1 - 10),\n",
    "                            cv2.FONT_HERSHEY_SIMPLEX, 0.6, (0, 255, 0), 2)\n",
    "                alert = True\n",
    "\n",
    "        img = cv2.cvtColor(frame, cv2.COLOR_BGR2RGB)\n",
    "        img = Image.fromarray(img)\n",
    "        img = ImageTk.PhotoImage(image=img)\n",
    "        video_label.configure(image=img)\n",
    "        video_label.image = img\n",
    "\n",
    "        alert_label.config(\n",
    "            text=\"\\u26a0\\ufe0f Person Detected!\" if alert else \"No person detected\",\n",
    "            fg=\"red\" if alert else \"green\"\n",
    "        )\n",
    "\n",
    "# Start detection thread\n",
    "\n",
    "def start_detection():\n",
    "    global running, cap\n",
    "    if not running:\n",
    "        cap = cv2.VideoCapture(1)\n",
    "        running = True\n",
    "        threading.Thread(target=detect_loop, daemon=True).start()\n",
    "\n",
    "# Stop detection and release resources\n",
    "\n",
    "def stop_detection():\n",
    "    global running, cap\n",
    "    running = False\n",
    "    if cap:\n",
    "        cap.release()\n",
    "    alert_label.config(text=\"Detection stopped\", fg=\"black\")\n",
    "    video_label.config(image='')\n",
    "\n",
    "# Buttons\n",
    "start_button = tk.Button(root, text=\"Start Detection\", command=start_detection, bg=\"green\", fg=\"white\")\n",
    "start_button.pack(pady=5)\n",
    "\n",
    "stop_button = tk.Button(root, text=\"Stop Detection\", command=stop_detection, bg=\"red\", fg=\"white\")\n",
    "stop_button.pack(pady=5)\n",
    "\n",
    "# Run GUI loop\n",
    "root.mainloop()"
   ],
   "id": "d752adbb6adbd0f",
   "outputs": [
    {
     "name": "stdout",
     "output_type": "stream",
     "text": [
      "PRO TIP  Replace 'model=yolov5n.pt' with new 'model=yolov5nu.pt'.\n",
      "YOLOv5 'u' models are trained with https://github.com/ultralytics/ultralytics and feature improved performance vs standard YOLOv5 models trained with https://github.com/ultralytics/yolov5.\n",
      "\n"
     ]
    }
   ],
   "execution_count": 1
  }
 ],
 "metadata": {
  "kernelspec": {
   "display_name": "Python 3",
   "language": "python",
   "name": "python3"
  },
  "language_info": {
   "codemirror_mode": {
    "name": "ipython",
    "version": 2
   },
   "file_extension": ".py",
   "mimetype": "text/x-python",
   "name": "python",
   "nbconvert_exporter": "python",
   "pygments_lexer": "ipython2",
   "version": "2.7.6"
  }
 },
 "nbformat": 4,
 "nbformat_minor": 5
}
