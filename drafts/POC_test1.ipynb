{
 "cells": [
  {
   "cell_type": "code",
   "execution_count": null,
   "id": "initial_id",
   "metadata": {
    "collapsed": true
   },
   "outputs": [],
   "source": [
    "# Instale os requisitos se ainda não tiver\n",
    "!pip install ultralytics opencv-python-headless --quiet"
   ]
  },
  {
   "metadata": {
    "ExecuteTime": {
     "end_time": "2025-06-18T22:28:02.829667Z",
     "start_time": "2025-06-18T22:28:00.256203Z"
    }
   },
   "cell_type": "code",
   "source": [
    "# Section 1: Download the Model pre-trained YOLOv5n\n",
    "from ultralytics import YOLO\n",
    "model = YOLO('yolov5n.pt')   # Isso baixa automaticamente o modelo 'yolov5n.pt'"
   ],
   "id": "2f4be8de84ee1ffa",
   "outputs": [
    {
     "name": "stdout",
     "output_type": "stream",
     "text": [
      "PRO TIP  Replace 'model=yolov5n.pt' with new 'model=yolov5nu.pt'.\n",
      "YOLOv5 'u' models are trained with https://github.com/ultralytics/ultralytics and feature improved performance vs standard YOLOv5 models trained with https://github.com/ultralytics/yolov5.\n",
      "\n",
      "Downloading https://github.com/ultralytics/assets/releases/download/v8.3.0/yolov5nu.pt to 'yolov5nu.pt'...\n"
     ]
    },
    {
     "name": "stderr",
     "output_type": "stream",
     "text": [
      "100%|██████████| 5.31M/5.31M [00:00<00:00, 34.3MB/s]\n"
     ]
    }
   ],
   "execution_count": 2
  },
  {
   "metadata": {
    "ExecuteTime": {
     "end_time": "2025-06-20T04:21:43.374565Z",
     "start_time": "2025-06-20T04:21:36.106591Z"
    }
   },
   "cell_type": "code",
   "source": "!yt-dlp -f \"bv*+ba/b\" -o \"video4.mp4\" https://www.youtube.com/watch?v=aKkuCNBPH0U",
   "id": "73aaf44d15c41e91",
   "outputs": [
    {
     "name": "stdout",
     "output_type": "stream",
     "text": [
      "[youtube] Extracting URL: https://www.youtube.com/watch?v=aKkuCNBPH0U\n",
      "[youtube] aKkuCNBPH0U: Downloading webpage\n",
      "[youtube] aKkuCNBPH0U: Downloading tv client config\n",
      "[youtube] aKkuCNBPH0U: Downloading tv player API JSON\n",
      "[youtube] aKkuCNBPH0U: Downloading ios player API JSON\n",
      "[youtube] aKkuCNBPH0U: Downloading m3u8 information\n",
      "[info] aKkuCNBPH0U: Downloading 1 format(s): 247+251\n",
      "[download] Destination: video4.mp4.f247.webm\n",
      "\n",
      "[download]   0.1% of    1.89MiB at  Unknown B/s ETA Unknown\n",
      "[download]   0.2% of    1.89MiB at    1.99MiB/s ETA 00:00  \n",
      "[download]   0.4% of    1.89MiB at    4.63MiB/s ETA 00:00\n",
      "[download]   0.8% of    1.89MiB at    7.13MiB/s ETA 00:00\n",
      "[download]   1.6% of    1.89MiB at    2.59MiB/s ETA 00:00\n",
      "[download]   3.2% of    1.89MiB at    5.02MiB/s ETA 00:00\n",
      "[download]   6.5% of    1.89MiB at    1.06MiB/s ETA 00:01\n",
      "[download]  13.1% of    1.89MiB at    1.75MiB/s ETA 00:00\n",
      "[download]  26.3% of    1.89MiB at    2.01MiB/s ETA 00:00\n",
      "[download]  52.7% of    1.89MiB at    2.56MiB/s ETA 00:00\n",
      "[download] 100.0% of    1.89MiB at    3.50MiB/s ETA 00:00\n",
      "[download] 100% of    1.89MiB in 00:00:00 at 2.38MiB/s   \n",
      "[download] Destination: video4.mp4.f251.webm\n",
      "\n",
      "[download]   6.6% of   15.14KiB at  992.50KiB/s ETA 00:00\n",
      "[download]  19.8% of   15.14KiB at    2.91MiB/s ETA 00:00\n",
      "[download]  46.2% of   15.14KiB at    3.42MiB/s ETA 00:00\n",
      "[download]  99.1% of   15.14KiB at    7.33MiB/s ETA 00:00\n",
      "[download] 100.0% of   15.14KiB at    7.40MiB/s ETA 00:00\n",
      "[download] 100% of   15.14KiB in 00:00:00 at 16.84KiB/s  \n"
     ]
    },
    {
     "name": "stderr",
     "output_type": "stream",
     "text": [
      "WARNING: You have requested merging of multiple formats but ffmpeg is not installed. The formats won't be merged\n"
     ]
    }
   ],
   "execution_count": 1
  },
  {
   "metadata": {},
   "cell_type": "code",
   "source": [
    "# POC: Real-Time Person Detection using YOLOv5n and Raspberry Pi Camera (or Webcam)\n",
    "\n",
    "# This notebook demonstrates how to use a pre-trained YOLOv5n model\n",
    "# to detect people in video frames, simulating a vehicle safety camera use case.\n",
    "\n",
    "# Section 2: Load the Model\n",
    "from ultralytics import YOLO\n",
    "import cv2\n",
    "import numpy as np\n",
    "from IPython.display import display, Image, clear_output\n",
    "import time\n",
    "\n",
    "# Section 3: Define a Function to Run Detection on an Image Frame\n",
    "def detect_person_in_frame(frame):\n",
    "    results = model(frame, verbose=False)\n",
    "    boxes = results[0].boxes\n",
    "    annotated_frame = frame.copy()\n",
    "    alert_triggered = False\n",
    "\n",
    "    for box in boxes:\n",
    "        cls = int(box.cls[0])\n",
    "        conf = float(box.conf[0])\n",
    "        if cls == 0 and conf > 0.5:  # Class 0 = person\n",
    "            x1, y1, x2, y2 = map(int, box.xyxy[0])\n",
    "            cv2.rectangle(annotated_frame, (x1, y1), (x2, y2), (0, 255, 0), 2)\n",
    "            cv2.putText(annotated_frame, f'Person {conf:.2f}', (x1, y1 - 10),\n",
    "                        cv2.FONT_HERSHEY_SIMPLEX, 0.6, (0, 255, 0), 2)\n",
    "            alert_triggered = True\n",
    "\n",
    "    return annotated_frame, alert_triggered\n",
    "\n",
    "# Section 4: Test on a Sample Image or Frame\n",
    "# (Here you can upload or load a test frame)\n",
    "\n",
    "# For demonstration: read a frame from a test video or webcam (can be adapted for Pi Camera)\n",
    "cap = cv2.VideoCapture(0)  # 0 = default webcam; for Raspberry Pi, use PiCamera interface or a video file\n",
    "\n",
    "for i in range(30):  # Capture and process up to 30 frames\n",
    "    ret, frame = cap.read()\n",
    "    if not ret:\n",
    "        break\n",
    "\n",
    "    resized_frame = cv2.resize(frame, (640, 480))\n",
    "    output_frame, alert = detect_person_in_frame(resized_frame)\n",
    "\n",
    "    _, jpeg = cv2.imencode('.jpg', output_frame)\n",
    "    display(Image(data=jpeg.tobytes()))\n",
    "    print(\"\\u26a0\\ufe0f Alert: Person detected!\" if alert else \"No person detected.\")\n",
    "    clear_output(wait=True)\n",
    "    time.sleep(5)\n",
    "\n",
    "cap.release()\n",
    "\n",
    "# Section 5: Conclusion\n",
    "print(\"Demo finished. This prototype simulates a real-time detection system for vehicle rear cameras.\")\n"
   ],
   "id": "d752adbb6adbd0f",
   "execution_count": 5,
   "outputs": []
  }
 ],
 "metadata": {
  "kernelspec": {
   "display_name": "Python 3",
   "language": "python",
   "name": "python3"
  },
  "language_info": {
   "codemirror_mode": {
    "name": "ipython",
    "version": 2
   },
   "file_extension": ".py",
   "mimetype": "text/x-python",
   "name": "python",
   "nbconvert_exporter": "python",
   "pygments_lexer": "ipython2",
   "version": "2.7.6"
  }
 },
 "nbformat": 4,
 "nbformat_minor": 5
}
