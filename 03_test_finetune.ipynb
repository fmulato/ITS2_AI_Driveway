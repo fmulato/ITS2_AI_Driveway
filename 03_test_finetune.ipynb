{
 "cells": [
  {
   "cell_type": "markdown",
   "id": "b77986e8",
   "metadata": {},
   "source": [
    "# 03_load_test_finetune.ipynb\n",
    "\n",
    "## Objective\n",
    "This notebook aims to load the fine-tuned YOLOv5n model (`best.pt`), which was retrained locally to include a new class ('kids') in addition to the original 80 classes. The fine-tuning process attempted to preserve the previous knowledge by freezing the initial layers of the model.\n",
    "\n",
    "---\n",
    "\n",
    "The original YOLOv5n pre-trained model (80 classes) was downloaded from Ultralytics. For this fine-tuning stage, a new class ('kids') was added, expanding the model's detection capabilities while retaining the original learned features.\n",
    "\n",
    "---\n",
    "\n",
    "## Steps:\n",
    "1. Import the necessary libraries  \n",
    "2. Load the fine-tuned YOLOv5n model  \n",
    "3. Test the model on sample images and videos  \n",
    "4. Display the results"
   ]
  },
  {
   "cell_type": "code",
   "execution_count": 36,
   "id": "cc35aa81",
   "metadata": {},
   "outputs": [],
   "source": [
    "# 1. Import required libraries\n",
    "import torch\n",
    "from pathlib import Path\n",
    "import cv2\n",
    "from matplotlib import pyplot as plt\n",
    "from ultralytics import YOLO"
   ]
  },
  {
   "cell_type": "code",
   "execution_count": 49,
   "id": "575f53c4",
   "metadata": {},
   "outputs": [],
   "source": [
    "# 2. Load the re-trained YOLOv5n new model\n",
    "model_path = Path(\"./best.pt\")\n",
    "assert model_path.is_file(), f\"Model not found at {model_path}\"\n",
    "\n",
    "# Load the model using ultralytics API\n",
    "model_ft = YOLO(str(model_path))"
   ]
  },
  {
   "cell_type": "code",
   "execution_count": 50,
   "id": "f0af9e08",
   "metadata": {},
   "outputs": [
    {
     "name": "stdout",
     "output_type": "stream",
     "text": [
      "\n",
      "image 1/1 c:\\Users\\fmula\\Documents\\Yoobee\\Subjects\\Term_2\\Intelligent_TS\\Assessment_2\\ITS2_AI_Driveway\\img1.jpg: 640x640 1 person, 3 kidss, 106.0ms\n",
      "Speed: 3.1ms preprocess, 106.0ms inference, 1.7ms postprocess per image at shape (1, 3, 640, 640)\n"
     ]
    }
   ],
   "source": [
    "# 3. Test the model on a sample image\n",
    "# For this example, place an image named \"test_image.jpg\" in the same folder\n",
    "img_path = Path(\"./img1.jpg\")\n",
    "assert img_path.is_file(), f\"Test image not found at {img_path}\"\n",
    "\n",
    "# Run inference\n",
    "results = model_ft(str(img_path))"
   ]
  },
  {
   "cell_type": "code",
   "execution_count": 51,
   "id": "a880fdfe",
   "metadata": {},
   "outputs": [],
   "source": [
    "import matplotlib.pyplot as plt\n",
    "import cv2 \n",
    "\n",
    "# 4. Display the results\n",
    "results[0].show()  # This will open a window showing the image with detections"
   ]
  },
  {
   "cell_type": "code",
   "execution_count": 42,
   "id": "56c767a7",
   "metadata": {},
   "outputs": [
    {
     "name": "stdout",
     "output_type": "stream",
     "text": [
      "      name  class  confidence  \\\n",
      "0     kids     80     0.97440   \n",
      "1   person      0     0.97070   \n",
      "2     kids     80     0.96309   \n",
      "3     kids     80     0.95535   \n",
      "4     kids     80     0.92436   \n",
      "5     kids     80     0.90246   \n",
      "6     kids     80     0.89561   \n",
      "7     kids     80     0.78132   \n",
      "8     kids     80     0.76780   \n",
      "9     kids     80     0.40489   \n",
      "10    kids     80     0.26540   \n",
      "\n",
      "                                                  box  \n",
      "0   {'x1': 533.104, 'y1': 485.85089, 'x2': 664.252...  \n",
      "1   {'x1': 662.12329, 'y1': 343.14539, 'x2': 872.5...  \n",
      "2   {'x1': 132.63866, 'y1': 512.75342, 'x2': 204.2...  \n",
      "3   {'x1': 861.72449, 'y1': 0.91876, 'x2': 1025.05...  \n",
      "4   {'x1': 1152.01562, 'y1': 507.02234, 'x2': 1230...  \n",
      "5   {'x1': 199.29422, 'y1': 430.32974, 'x2': 296.1...  \n",
      "6   {'x1': 174.09915, 'y1': 120.84314, 'x2': 279.1...  \n",
      "7   {'x1': 20.62209, 'y1': 425.3981, 'x2': 138.579...  \n",
      "8   {'x1': 1044.99658, 'y1': 467.17267, 'x2': 1129...  \n",
      "9   {'x1': 186.22421, 'y1': 473.96216, 'x2': 247.0...  \n",
      "10  {'x1': 1067.53809, 'y1': 465.32672, 'x2': 1126...  \n"
     ]
    }
   ],
   "source": [
    "# You can also access detailed results (e.g., labels, bounding boxes)\n",
    "df = results[0].to_df()\n",
    "print(df) # pandas DataFrame with bounding boxes and confidence scores"
   ]
  }
 ],
 "metadata": {
  "kernelspec": {
   "display_name": "ITS_A2",
   "language": "python",
   "name": "python3"
  },
  "language_info": {
   "codemirror_mode": {
    "name": "ipython",
    "version": 3
   },
   "file_extension": ".py",
   "mimetype": "text/x-python",
   "name": "python",
   "nbconvert_exporter": "python",
   "pygments_lexer": "ipython3",
   "version": "3.13.5"
  }
 },
 "nbformat": 4,
 "nbformat_minor": 5
}
