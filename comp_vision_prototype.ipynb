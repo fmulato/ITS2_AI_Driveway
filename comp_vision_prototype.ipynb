{
 "cells": [
  {
   "cell_type": "code",
   "execution_count": 45,
   "id": "initial_id",
   "metadata": {
    "ExecuteTime": {
     "end_time": "2025-06-20T04:28:43.186446Z",
     "start_time": "2025-06-20T04:28:43.181450Z"
    },
    "collapsed": true
   },
   "outputs": [],
   "source": [
    "#!pip install ultralytics roboflow opencv-python --quiet"
   ]
  },
  {
   "cell_type": "code",
   "execution_count": 46,
   "id": "43e3c2350a93b0df",
   "metadata": {
    "ExecuteTime": {
     "end_time": "2025-06-20T04:28:43.211469Z",
     "start_time": "2025-06-20T04:28:43.205905Z"
    }
   },
   "outputs": [],
   "source": [
    "# from roboflow import Roboflow\n",
    "#\n",
    "# api_key = 'gWhSmzDRF07NZVaOK6f0'\n",
    "#\n",
    "# rf = Roboflow(api_key=api_key)\n",
    "#\n",
    "# project = rf.workspace(\"custom-thxhn\").project(\"fire-wrpgm\")  # Projeto: Fire Detection\n",
    "# dataset = project.version(8).download(\"yolov8\")"
   ]
  },
  {
   "cell_type": "code",
   "execution_count": 47,
   "id": "e7326c52f1601502",
   "metadata": {
    "ExecuteTime": {
     "end_time": "2025-06-20T04:28:43.230069Z",
     "start_time": "2025-06-20T04:28:43.218966Z"
    }
   },
   "outputs": [],
   "source": [
    "#!pip install yt-dlp"
   ]
  },
  {
   "cell_type": "code",
   "execution_count": null,
   "id": "a3308e727ce36d47",
   "metadata": {
    "ExecuteTime": {
     "end_time": "2025-06-20T09:27:08.024090Z",
     "start_time": "2025-06-20T09:26:59.664610Z"
    }
   },
   "outputs": [
    {
     "name": "stdout",
     "output_type": "stream",
     "text": [
      "[generic] Extracting URL: video15.mp4\n",
      "[youtube] Extracting URL: https://www.youtube.com/shorts/m9L4PLV9nkc\n",
      "[youtube] m9L4PLV9nkc: Downloading webpage\n",
      "[youtube] m9L4PLV9nkc: Downloading tv client config\n",
      "[youtube] m9L4PLV9nkc: Downloading tv player API JSON\n",
      "[youtube] m9L4PLV9nkc: Downloading ios player API JSON\n",
      "[youtube] m9L4PLV9nkc: Downloading m3u8 information\n",
      "[info] m9L4PLV9nkc: Downloading 1 format(s): 18\n",
      "[download] Destination: cows crossing the road like a pro   #cow #bull #animals [m9L4PLV9nkc].mp4\n",
      "\n",
      "[download]   0.1% of    1.21MiB at    8.08KiB/s ETA 02:33\n",
      "[download]   0.2% of    1.21MiB at   24.13KiB/s ETA 00:51\n",
      "[download]   0.6% of    1.21MiB at   55.72KiB/s ETA 00:22\n",
      "[download]   1.2% of    1.21MiB at  118.87KiB/s ETA 00:10\n",
      "[download]   2.5% of    1.21MiB at  205.31KiB/s ETA 00:05\n",
      "[download]   5.1% of    1.21MiB at  231.90KiB/s ETA 00:05\n",
      "[download]  10.3% of    1.21MiB at  317.64KiB/s ETA 00:03\n",
      "[download]  20.6% of    1.21MiB at  481.96KiB/s ETA 00:02\n",
      "[download]  41.3% of    1.21MiB at  751.54KiB/s ETA 00:00\n",
      "[download]  82.6% of    1.21MiB at    1.23MiB/s ETA 00:00\n",
      "[download] 100.0% of    1.21MiB at    1.36MiB/s ETA 00:00\n",
      "[download] 100% of    1.21MiB in 00:00:02 at 565.57KiB/s \n",
      "[VideoConvertor] Not converting media file \"cows crossing the road like a pro   #cow #bull #animals [m9L4PLV9nkc].mp4\"; already is in target format mp4\n"
     ]
    },
    {
     "name": "stderr",
     "output_type": "stream",
     "text": [
      "ERROR: [generic] 'video15.mp4' is not a valid URL. Set --default-search \"ytsearch\" (or run  yt-dlp \"ytsearch:video15.mp4\" ) to search YouTube\n",
      "WARNING: ffmpeg not found. The downloaded format may not be the best available. Installing ffmpeg is strongly recommended: https://github.com/yt-dlp/yt-dlp#dependencies\n"
     ]
    }
   ],
   "source": [
    "# Dowload a YouTube video for testing\n",
    "# !yt-dlp \"video15.mp4\" --recode-video mp4 https://www.youtube.com/shorts/m9L4PLV9nkc"
   ]
  },
  {
   "cell_type": "code",
   "execution_count": null,
   "id": "92bd4144093c5c77",
   "metadata": {
    "ExecuteTime": {
     "end_time": "2025-06-20T04:28:44.642113Z",
     "start_time": "2025-06-20T04:28:43.276359Z"
    }
   },
   "outputs": [
    {
     "name": "stdout",
     "output_type": "stream",
     "text": [
      "Requirement already satisfied: playsound in c:\\users\\fmula\\.conda\\envs\\its_test\\lib\\site-packages (1.3.0)\n"
     ]
    }
   ],
   "source": [
    "# !pip install torch\n",
    "# !pip install pyaudio"
   ]
  },
  {
   "cell_type": "code",
   "execution_count": 2,
   "id": "72b77fa7",
   "metadata": {},
   "outputs": [],
   "source": [
    "from ultralytics import YOLO\n",
    "import cv2\n",
    "import tkinter as tk\n",
    "from tkinter import messagebox\n",
    "import threading\n",
    "import pyaudio\n",
    "import wave"
   ]
  },
  {
   "cell_type": "code",
   "execution_count": 5,
   "id": "ae4bfa9a2dad0a8a",
   "metadata": {
    "ExecuteTime": {
     "end_time": "2025-06-20T09:36:19.421773Z",
     "start_time": "2025-06-20T09:36:19.374967Z"
    }
   },
   "outputs": [
    {
     "name": "stdout",
     "output_type": "stream",
     "text": [
      "0: person\n",
      "1: bicycle\n",
      "2: car\n",
      "3: motorcycle\n",
      "4: airplane\n",
      "5: bus\n",
      "6: train\n",
      "7: truck\n",
      "8: boat\n",
      "9: traffic light\n",
      "10: fire hydrant\n",
      "11: stop sign\n",
      "12: parking meter\n",
      "13: bench\n",
      "14: bird\n",
      "15: cat\n",
      "16: dog\n",
      "17: horse\n",
      "18: sheep\n",
      "19: cow\n",
      "20: elephant\n",
      "21: bear\n",
      "22: zebra\n",
      "23: giraffe\n",
      "24: backpack\n",
      "25: umbrella\n",
      "26: handbag\n",
      "27: tie\n",
      "28: suitcase\n",
      "29: frisbee\n",
      "30: skis\n",
      "31: snowboard\n",
      "32: sports ball\n",
      "33: kite\n",
      "34: baseball bat\n",
      "35: baseball glove\n",
      "36: skateboard\n",
      "37: surfboard\n",
      "38: tennis racket\n",
      "39: bottle\n",
      "40: wine glass\n",
      "41: cup\n",
      "42: fork\n",
      "43: knife\n",
      "44: spoon\n",
      "45: bowl\n",
      "46: banana\n",
      "47: apple\n",
      "48: sandwich\n",
      "49: orange\n",
      "50: broccoli\n",
      "51: carrot\n",
      "52: hot dog\n",
      "53: pizza\n",
      "54: donut\n",
      "55: cake\n",
      "56: chair\n",
      "57: couch\n",
      "58: potted plant\n",
      "59: bed\n",
      "60: dining table\n",
      "61: toilet\n",
      "62: tv\n",
      "63: laptop\n",
      "64: mouse\n",
      "65: remote\n",
      "66: keyboard\n",
      "67: cell phone\n",
      "68: microwave\n",
      "69: oven\n",
      "70: toaster\n",
      "71: sink\n",
      "72: refrigerator\n",
      "73: book\n",
      "74: clock\n",
      "75: vase\n",
      "76: scissors\n",
      "77: teddy bear\n",
      "78: hair drier\n",
      "79: toothbrush\n"
     ]
    }
   ],
   "source": [
    "# Load model YOLOv5n pre-trained with 80 labels\n",
    "model = YOLO(\"yolov5nu.pt\")\n",
    "\n",
    "# Show labels\n",
    "for i, label in model.names.items():\n",
    "    print(f\"{i}: {label}\")"
   ]
  },
  {
   "cell_type": "code",
   "execution_count": null,
   "id": "1640051cad0e4577",
   "metadata": {
    "ExecuteTime": {
     "end_time": "2025-06-20T09:40:10.939732Z",
     "start_time": "2025-06-20T09:39:51.679229Z"
    }
   },
   "outputs": [
    {
     "name": "stdout",
     "output_type": "stream",
     "text": [
      "ALERT: PERSON detected for 3 consecutive frames!\n",
      "ALERT: PERSON detected for 3 consecutive frames!\n"
     ]
    },
    {
     "ename": "",
     "evalue": "",
     "output_type": "error",
     "traceback": [
      "\u001b[1;31mThe Kernel crashed while executing code in the current cell or a previous cell. \n",
      "\u001b[1;31mPlease review the code in the cell(s) to identify a possible cause of the failure. \n",
      "\u001b[1;31mClick <a href='https://aka.ms/vscodeJupyterKernelCrash'>here</a> for more info. \n",
      "\u001b[1;31mView Jupyter <a href='command:jupyter.viewOutput'>log</a> for further details."
     ]
    }
   ],
   "source": [
    "# Load model pre-trained to detect objects\n",
    "model = YOLO(\"yolov5nu.pt\")\n",
    "audio = 'beep.wav'\n",
    "video = \"video_4.mp4\" # choose the video name here to test more videos\n",
    "\n",
    "# Load video\n",
    "cap = cv2.VideoCapture(video)\n",
    "frame_width = int(cap.get(cv2.CAP_PROP_FRAME_WIDTH))\n",
    "frame_height = int(cap.get(cv2.CAP_PROP_FRAME_HEIGHT))\n",
    "\n",
    "# Parameters\n",
    "threshold_frames = 3\n",
    "confidence_threshold = 0.35\n",
    "consecutive_frames = 0\n",
    "keep_beeping = False\n",
    "alert_active = False  # NEW: flag to avoid multiple alerts\n",
    "\n",
    "# Target labels to detect\n",
    "target_labels = ['person', 'kid', 'cat', 'dog', 'horse', 'sheep', 'cow']\n",
    "\n",
    "# Function: play alarm sound in loop\n",
    "def beep_loop():\n",
    "    global keep_beeping\n",
    "    chunk = 1024\n",
    "\n",
    "    wf = wave.open(audio, 'rb')\n",
    "    p = pyaudio.PyAudio()\n",
    "\n",
    "    stream = p.open(format=p.get_format_from_width(wf.getsampwidth()),\n",
    "                    channels=wf.getnchannels(),\n",
    "                    rate=wf.getframerate(),\n",
    "                    output=True)\n",
    "\n",
    "    while keep_beeping:\n",
    "        wf.rewind()\n",
    "        data = wf.readframes(chunk)\n",
    "        while data and keep_beeping:\n",
    "            stream.write(data)\n",
    "            data = wf.readframes(chunk)\n",
    "\n",
    "    stream.stop_stream()\n",
    "    stream.close()\n",
    "    p.terminate()\n",
    "\n",
    "# Function: show popup alert with sound\n",
    "def show_alert(label, frames_detected):\n",
    "    global keep_beeping, alert_active\n",
    "    keep_beeping = True\n",
    "\n",
    "    # Start beep in thread\n",
    "    threading.Thread(target=beep_loop, daemon=True).start()\n",
    "\n",
    "    # Show popup\n",
    "    root = tk.Tk()\n",
    "    root.withdraw()\n",
    "    print(f\"ALERT: {label.upper()} detected for {frames_detected} consecutive frames!\")\n",
    "    messagebox.showwarning(\n",
    "        \"DETECTION ALERT\",\n",
    "        f\"ALERT: {label.upper()} detected for {frames_detected} consecutive frames!\"\n",
    "    )\n",
    "\n",
    "    # Stop beep when popup closed\n",
    "    keep_beeping = False\n",
    "    root.destroy()\n",
    "\n",
    "    # Reset alert flag\n",
    "    alert_active = False\n",
    "\n",
    "def center_window(window_name, frame_width, frame_height):\n",
    "    # Get size of the screen\n",
    "    root = tk.Tk()\n",
    "    screen_width = root.winfo_screenwidth()\n",
    "    screen_height = root.winfo_screenheight()\n",
    "    root.destroy()\n",
    "\n",
    "    # Calculating the position to center the window\n",
    "    x = int((screen_width - frame_width) / 2)\n",
    "    y = int((screen_height - frame_height) / 2)\n",
    "\n",
    "    # Moveing the window to the center\n",
    "    cv2.moveWindow(window_name, x, y)\n",
    "\n",
    "window_name = \"Detection\"\n",
    "\n",
    "# Create window with normal size and center it\n",
    "cv2.namedWindow(window_name, cv2.WINDOW_NORMAL)\n",
    "center_window(window_name, frame_width, frame_height)\n",
    "\n",
    "# Main loop\n",
    "while True:\n",
    "    ret, frame = cap.read()\n",
    "    if not ret:\n",
    "        break\n",
    "\n",
    "    # Run detection\n",
    "    results = model(frame, verbose=False)\n",
    "    annotated = results[0].plot()\n",
    "\n",
    "    # Check for target labels\n",
    "    detected = False\n",
    "    detected_label = \"\"\n",
    "\n",
    "    for box in results[0].boxes:\n",
    "        conf = box.conf.item()\n",
    "        label = results[0].names[int(box.cls)]\n",
    "\n",
    "        if label.lower() in target_labels and conf > confidence_threshold:\n",
    "            detected = True\n",
    "            detected_label = label\n",
    "            break\n",
    "\n",
    "    # Update counter\n",
    "    consecutive_frames = consecutive_frames + 1 if detected else 0\n",
    "\n",
    "    # Trigger alert (if not already active)\n",
    "    if consecutive_frames >= threshold_frames and not alert_active:\n",
    "        alert_active = True\n",
    "        threading.Thread(target=show_alert, args=(detected_label, consecutive_frames), daemon=True).start()\n",
    "        consecutive_frames = 0\n",
    "\n",
    "    # Show video with detections\n",
    "    cv2.imshow(\"Detection\", annotated)\n",
    "    if cv2.waitKey(1) & 0xFF == ord(\"q\"):\n",
    "        break\n",
    "\n",
    "# Cleanup\n",
    "cap.release()\n",
    "cv2.destroyAllWindows()\n",
    "\n",
    "# press \"q\" to fisnih the video\n"
   ]
  }
 ],
 "metadata": {
  "kernelspec": {
   "display_name": "its_test",
   "language": "python",
   "name": "python3"
  },
  "language_info": {
   "codemirror_mode": {
    "name": "ipython",
    "version": 3
   },
   "file_extension": ".py",
   "mimetype": "text/x-python",
   "name": "python",
   "nbconvert_exporter": "python",
   "pygments_lexer": "ipython3",
   "version": "3.10.18"
  }
 },
 "nbformat": 4,
 "nbformat_minor": 5
}
